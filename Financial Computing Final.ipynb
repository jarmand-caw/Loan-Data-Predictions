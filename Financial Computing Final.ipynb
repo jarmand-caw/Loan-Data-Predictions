{
 "cells": [
  {
   "cell_type": "code",
   "execution_count": 1,
   "metadata": {},
   "outputs": [],
   "source": [
    "import pandas as pd\n",
    "import numpy as np\n",
    "dfA0 = pd.read_csv('/Users/jackarmand/Downloads/A0.csv')\n",
    "dfA0.set_index('LID',inplace=True)\n",
    "dfA1 = pd.read_csv('/Users/jackarmand/Downloads/A1.csv')\n",
    "dfA1.set_index('LID',inplace=True)\n",
    "dfA2 = pd.read_csv('/Users/jackarmand/Downloads/A2.csv')\n",
    "dfA2.set_index('LID',inplace=True)\n",
    "\n",
    "dfCF0 = pd.read_csv('/Users/jackarmand/Downloads/CASH_FLOW0.csv')\n",
    "dfCF1 = pd.read_csv('/Users/jackarmand/Downloads/CASH_FLOW1.csv')"
   ]
  },
  {
   "cell_type": "code",
   "execution_count": 2,
   "metadata": {},
   "outputs": [],
   "source": [
    "#Function to aggregate cash flows into statistics for each loan ID\n",
    "def create_CF_summary(df):\n",
    "    summary_df = pd.DataFrame()\n",
    "    summary_df['Cumulative Payment'] = df.groupby('LID').sum()['PAYMENT']\n",
    "    summary_df['Length'] = df.groupby('LID').max()['LOAN_AGE']\n",
    "    return summary_df"
   ]
  },
  {
   "cell_type": "code",
   "execution_count": 3,
   "metadata": {},
   "outputs": [],
   "source": [
    "def create_month_dataframes(df,l1):\n",
    "    dfs = []\n",
    "    for i in l1:\n",
    "        df_i = df.loc[df['LOAN_AGE']<(i+1)]\n",
    "        df_sum_i = create_CF_summary(df_i)\n",
    "        dfs.append(df_sum_i)\n",
    "    return dfs"
   ]
  },
  {
   "cell_type": "code",
   "execution_count": 4,
   "metadata": {},
   "outputs": [],
   "source": [
    "#List of dataframes for both 0 and 1, each dataframe cuts off any months past loan age=M\n",
    "#This seemed to me to be the easiest way to get cumulative payments and active or not for different\n",
    "#values for M\n",
    "list_of_dfs_0 = create_month_dataframes(dfCF0,[12,24,36,48,60])\n",
    "list_of_dfs_1 = create_month_dataframes(dfCF1,[12,24,36,48,60])"
   ]
  },
  {
   "cell_type": "code",
   "execution_count": 5,
   "metadata": {},
   "outputs": [],
   "source": [
    "#Creating Cumulative Payment to different Ms and Active at different Ms for data \"1\" and data \"0\"\n",
    "dfCF0_summary = create_CF_summary(dfCF0)\n",
    "dfCF1_summary = create_CF_summary(dfCF1)\n",
    "\n",
    "#dfCF0_summary['Active_12']\n",
    "for i in [12,24,36,48,60]:\n",
    "    name = 'Active_'+str(i)\n",
    "    dfCF0_summary[name] = np.where(dfCF0_summary['Length']>(i-1),1,0)\n",
    "count = 0\n",
    "for i in list_of_dfs_0:\n",
    "    count+=1\n",
    "    name_num = count*12\n",
    "    name = 'Cumulative_Payment_'+str(name_num)\n",
    "    dfCF0_summary[name] = i['Cumulative Payment']\n",
    "\n",
    "for i in [12,24,36,48,60]:\n",
    "    name = 'Active_'+str(i)\n",
    "    dfCF1_summary[name] = np.where(dfCF1_summary['Length']>(i-1),1,0)\n",
    "count = 0\n",
    "for i in list_of_dfs_1:\n",
    "    count+=1\n",
    "    name_num = count*12\n",
    "    name = 'Cumulative_Payment_'+str(name_num)\n",
    "    dfCF1_summary[name] = i['Cumulative Payment']"
   ]
  },
  {
   "cell_type": "markdown",
   "metadata": {},
   "source": [
    "# Summary Stats for Data \"0\"\n",
    "- Mean loan length: 32.3\n",
    "- Loan length STD: 34.722\n",
    "- Mean Cum Payment (total): 158545.5\n",
    "- Cum Payment STD: 71979"
   ]
  },
  {
   "cell_type": "code",
   "execution_count": 7,
   "metadata": {
    "collapsed": true,
    "jupyter": {
     "outputs_hidden": true
    }
   },
   "outputs": [
    {
     "ename": "NameError",
     "evalue": "name 'result_df' is not defined",
     "output_type": "error",
     "traceback": [
      "\u001b[0;31m---------------------------------------------------------------------------\u001b[0m",
      "\u001b[0;31mNameError\u001b[0m                                 Traceback (most recent call last)",
      "\u001b[0;32m<ipython-input-7-a4cf4bce6279>\u001b[0m in \u001b[0;36m<module>\u001b[0;34m\u001b[0m\n\u001b[1;32m      1\u001b[0m \u001b[0;31m#Graph of Loan Lengths by date\u001b[0m\u001b[0;34m\u001b[0m\u001b[0;34m\u001b[0m\u001b[0;34m\u001b[0m\u001b[0m\n\u001b[1;32m      2\u001b[0m \u001b[0;32mimport\u001b[0m \u001b[0mplotly\u001b[0m\u001b[0;34m.\u001b[0m\u001b[0mgraph_objects\u001b[0m \u001b[0;32mas\u001b[0m \u001b[0mgo\u001b[0m\u001b[0;34m\u001b[0m\u001b[0;34m\u001b[0m\u001b[0m\n\u001b[0;32m----> 3\u001b[0;31m \u001b[0mfig\u001b[0m \u001b[0;34m=\u001b[0m \u001b[0mgo\u001b[0m\u001b[0;34m.\u001b[0m\u001b[0mFigure\u001b[0m\u001b[0;34m(\u001b[0m\u001b[0mdata\u001b[0m\u001b[0;34m=\u001b[0m\u001b[0;34m[\u001b[0m\u001b[0mgo\u001b[0m\u001b[0;34m.\u001b[0m\u001b[0mScatter\u001b[0m\u001b[0;34m(\u001b[0m\u001b[0mx\u001b[0m\u001b[0;34m=\u001b[0m\u001b[0mresult_df\u001b[0m\u001b[0;34m.\u001b[0m\u001b[0mgroupby\u001b[0m\u001b[0;34m(\u001b[0m\u001b[0;34m[\u001b[0m\u001b[0;34m'FIRST_PMT_DATE'\u001b[0m\u001b[0;34m]\u001b[0m\u001b[0;34m)\u001b[0m\u001b[0;34m.\u001b[0m\u001b[0mmean\u001b[0m\u001b[0;34m(\u001b[0m\u001b[0;34m)\u001b[0m\u001b[0;34m.\u001b[0m\u001b[0mindex\u001b[0m\u001b[0;34m,\u001b[0m\u001b[0my\u001b[0m\u001b[0;34m=\u001b[0m\u001b[0mresult_df\u001b[0m\u001b[0;34m.\u001b[0m\u001b[0mgroupby\u001b[0m\u001b[0;34m(\u001b[0m\u001b[0;34m[\u001b[0m\u001b[0;34m'FIRST_PMT_DATE'\u001b[0m\u001b[0;34m]\u001b[0m\u001b[0;34m)\u001b[0m\u001b[0;34m.\u001b[0m\u001b[0mmean\u001b[0m\u001b[0;34m(\u001b[0m\u001b[0;34m)\u001b[0m\u001b[0;34m[\u001b[0m\u001b[0;34m'Length'\u001b[0m\u001b[0;34m]\u001b[0m\u001b[0;34m,\u001b[0m\u001b[0mmode\u001b[0m\u001b[0;34m=\u001b[0m\u001b[0;34m'markers'\u001b[0m\u001b[0;34m)\u001b[0m\u001b[0;34m]\u001b[0m\u001b[0;34m)\u001b[0m\u001b[0;34m\u001b[0m\u001b[0;34m\u001b[0m\u001b[0m\n\u001b[0m\u001b[1;32m      4\u001b[0m \u001b[0mfig\u001b[0m\u001b[0;34m\u001b[0m\u001b[0;34m\u001b[0m\u001b[0m\n",
      "\u001b[0;31mNameError\u001b[0m: name 'result_df' is not defined"
     ]
    }
   ],
   "source": [
    "#Graph of Loan Lengths by date\n",
    "import plotly.graph_objects as go\n",
    "fig = go.Figure(data=[go.Scatter(x=result_df.groupby(['FIRST_PMT_DATE']).mean().index,y=result_df.groupby(['FIRST_PMT_DATE']).mean()['Length'],mode='markers')])\n",
    "fig"
   ]
  },
  {
   "cell_type": "markdown",
   "metadata": {},
   "source": [
    "### Loan length looks to decrease monotonically as date increases, so thought that it looked like replacing dates simply with increases integers would be a fine way to go about it"
   ]
  },
  {
   "cell_type": "markdown",
   "metadata": {},
   "source": [
    "# Determining if categories seem to have a big effect on outcome, and how is best to represent them\n",
    "### Note: Used .groupby(column_name).mean() to see if different cats had large diffs in means\n",
    "- SELLER\n",
    "    - No lengths or payments for any seller are >1 STD away from mean, unsure if its worth using this category\n",
    "- STATE\n",
    "    - Guam has >> Loan Length\n",
    "    - Looks like it is possible that states effect loan value on average. Think it may be a good idea to use state population density as a metric to use for state (or maybe statistics for average home price??)\n",
    "- OCHANNEL\n",
    "    - Only 3 categories so probably worth using hot encoding\n",
    "- OCC_STATUS\n",
    "    - Also only 3 categories, and seems to have a pretty good different in length and payment\n",
    "- REL_MORT_IND\n",
    "    - Only two categories can just use binary\n",
    "- PROD_TYPE\n",
    "    - Only one category, just delete\n",
    "- ORIG_DATE\n",
    "    - Length decreases monotoically as time increases\n",
    "    - Cumulative payment looks as though it possibly increases as time increases\n",
    "    - Either way, seems like replacing with integers that just count up would work well to represent the data as there it moves linearly\n",
    "- FIRST_PMT_DATE\n",
    "    - super similar to ORIG_DATE, only need one\n",
    "- FIRST_TIME_IND\n",
    "    - 3 categories, seem to possibly have a difference so will probably keep this\n",
    "- LOAN_PURPOSE\n",
    "    - 4 categories, again OHE seems to be the best way most likely\n",
    "- PROPERTY_TYPE\n",
    "    - 5 categories, once again OHE or hashing seems to be best"
   ]
  },
  {
   "cell_type": "code",
   "execution_count": 8,
   "metadata": {},
   "outputs": [],
   "source": [
    "def regression_fill(df,list_of_labels):\n",
    "    df = df[list_of_labels]\n",
    "    ols = LinearRegression()\n",
    "    df_train = df.dropna(axis=0,how='any')\n",
    "    X_train = np.asarray(df_train[list_of_labels[0]]).reshape(-1,1)\n",
    "    y_train = df_train[list_of_labels[1]]\n",
    "    model = ols.fit(X_train,y_train)\n",
    "    for i in range(len(df[list_of_labels[0]])):\n",
    "        try:\n",
    "            if df[list_of_labels[0]].iloc[i] != 'naN':\n",
    "                df[list_of_labels[1]].iat[i] = model.predict(np.asarray(df[list_of_labels[0]].iloc[i]).reshape(-1,1))\n",
    "        except:\n",
    "            pass\n",
    "    return df"
   ]
  },
  {
   "cell_type": "code",
   "execution_count": 10,
   "metadata": {},
   "outputs": [],
   "source": [
    "getting_avg_len = pd.concat([dfCF0_summary,dfA0],axis='columns')\n",
    "\n",
    "#ZIP\n",
    "gal = getting_avg_len.groupby('ZIP').mean()\n",
    "zips = list(gal.index)\n",
    "lens = list(gal['Length'])\n",
    "upbs = list(gal['UPB'])\n",
    "active_percent_list = []\n",
    "cumulative_payment_at_time_avgs = []\n",
    "for i in [12,24,36,48,60]:    \n",
    "    name_active = 'Active_'+str(i)\n",
    "    name_cum = 'Cumulative_Payment_'+str(i)\n",
    "    active_percent_list.append(gal[name_active])\n",
    "    cumulative_payment_at_time_avgs.append(list(gal[name_cum]))\n",
    "    \n",
    "\n",
    "#STATE\n",
    "gal_state = getting_avg_len.groupby('STATE').mean()\n",
    "states = list(gal_state.index)\n",
    "state_lens = list(gal_state['Length'])\n",
    "state_upbs = list(gal_state['UPB'])\n",
    "state_active_percent_list = []\n",
    "state_cumulative_payment_at_time_avgs = []\n",
    "for i in [12,24,36,48,60]:    \n",
    "    name_active = 'Active_'+str(i)\n",
    "    name_cum = 'Cumulative_Payment_'+str(i)\n",
    "    state_active_percent_list.append(list(gal_state[name_active]))\n",
    "    state_cumulative_payment_at_time_avgs.append(list(gal_state[name_cum]))"
   ]
  },
  {
   "cell_type": "code",
   "execution_count": 11,
   "metadata": {},
   "outputs": [],
   "source": [
    "income_stats = pd.read_csv('/Users/jackarmand/Documents/Income Statistics States.csv')\n",
    "income_stats = income_stats[['Median Household Income','State']]\n",
    "dfA0u = dfA0.copy()\n",
    "dfA0u['STATE_MEDIAN_INCOME'] = dfA0['STATE'].replace(list(income_stats['State']),list(income_stats['Median Household Income']))\n",
    "dfA0u['STATE_MEDIAN_INCOME'] = dfA0u['STATE_MEDIAN_INCOME'].astype(int)\n",
    "dfA0u['STATE_LL'] = dfA0u['STATE'].replace(states,state_lens)\n",
    "dfA0u['STATE_UPB'] = dfA0u['STATE'].replace(states,state_upbs)\n",
    "#for i in [12,24,36,48,60]:\n",
    "    #num = int((i/12)-1)\n",
    "    #name_active = 'State_Active_'+str(i)\n",
    "    #name_cum = 'State_Cumulative_Payment_'+str(i)\n",
    "    #dfA0u[name_active] = dfA0u['STATE'].replace(states,state_active_percent_list[num])\n",
    "    #dfA0u[name_cum] = dfA0u['STATE'].replace(states,state_cumulative_payment_at_time_avgs[num])\n",
    "\n",
    "dfA0u['ZIP_LL'] = dfA0u['ZIP'].replace(zips,lens)\n",
    "dfA0u['ZIP_UPB'] = dfA0u['ZIP'].replace(zips,upbs)\n",
    "#for i in [12,24,36,48,60]:\n",
    "    #num = int((i/12)-1)\n",
    "    #name_active = 'ZIP_Active_'+str(i)\n",
    "    #name_cum = 'ZIP_Cumulative_Payment_'+str(i)\n",
    "    #dfA0u[name_active] = dfA0u['ZIP'].replace(zips,active_percent_list[num])\n",
    "    #dfA0u[name_cum] = dfA0u['ZIP'].replace(zips,cumulative_payment_at_time_avgs[num])\n",
    "\n",
    "dfA0u = pd.get_dummies(dfA0u,columns=['OCHANNEL','OCC_STATUS','FIRST_TIME_IND','LOAN_PURPOSE','PROPERTY_TYPE'])\n",
    "\n",
    "l1 = list(dfA0u.groupby(['FIRST_PMT_DATE']).mean().index)\n",
    "date_ints = []\n",
    "for i in range(len(l1)):\n",
    "    date_ints.append(i)\n",
    "l1.sort()\n",
    "dfA0u = dfA0u.replace(l1,date_ints)\n",
    "\n",
    "dfA0u['REL_MORT_IND'] = dfA0u['REL_MORT_IND'].astype('category').cat.codes"
   ]
  },
  {
   "cell_type": "code",
   "execution_count": 17,
   "metadata": {},
   "outputs": [
    {
     "name": "stderr",
     "output_type": "stream",
     "text": [
      "/opt/anaconda3/lib/python3.7/site-packages/ipykernel_launcher.py:3: SettingWithCopyWarning:\n",
      "\n",
      "\n",
      "A value is trying to be set on a copy of a slice from a DataFrame.\n",
      "Try using .loc[row_indexer,col_indexer] = value instead\n",
      "\n",
      "See the caveats in the documentation: http://pandas.pydata.org/pandas-docs/stable/user_guide/indexing.html#returning-a-view-versus-a-copy\n",
      "\n"
     ]
    }
   ],
   "source": [
    "#Simply drop any NaN rows to get a complete set to train with\n",
    "dfA0_training = dfA0u.select_dtypes(include=['float64','int64','int8','uint8'])\n",
    "dfA0_training['Cumulative Payment'] = dfCF0_summary['Cumulative Payment'].copy()\n",
    "dfA0_training = dfA0_training.dropna(axis=0,how='any')"
   ]
  },
  {
   "cell_type": "code",
   "execution_count": 20,
   "metadata": {},
   "outputs": [],
   "source": [
    "from sklearn.linear_model import LinearRegression\n",
    "dfA0r = dfA0u.select_dtypes(include=['float64','int64','int8','uint8'])\n",
    "l1 = [['LTV','MORT_INS_PCT'],['MORT_INS_PCT','LTV'],['CREDIT_SCORE','CO_CREDIT_SCORE'],['CO_CREDIT_SCORE','CREDIT_SCORE']]\n",
    "for i in l1:\n",
    "    regression_fill(dfA0r,i)\n",
    "dfA0r = dfA0r.fillna(dfA0r.mean())"
   ]
  },
  {
   "cell_type": "code",
   "execution_count": 21,
   "metadata": {},
   "outputs": [],
   "source": [
    "income_stats = pd.read_csv('/Users/jackarmand/Documents/Income Statistics States.csv')\n",
    "income_stats = income_stats[['Median Household Income','State']]\n",
    "state_replace = {'STATE':{list(income_stats['Median Household Income'])[i]:list(income_stats['State'])[i] for i in range(len(income_stats))}}\n",
    "dfA1u = dfA1.copy()\n",
    "dfA1u['STATE_MEDIAN_INCOME'] = dfA1['STATE'].replace(list(income_stats['State']),list(income_stats['Median Household Income']))\n",
    "dfA1u['STATE_MEDIAN_INCOME'] = dfA1u['STATE_MEDIAN_INCOME'].astype(int)\n",
    "dfA1u['STATE_LL'] = dfA1u['STATE'].replace(states,state_lens)\n",
    "dfA1u['STATE_UPB'] = dfA1u['STATE'].replace(states,state_upbs)\n",
    "#for i in [12,24,36,48,60]:\n",
    "    #num = int((i/12)-1)\n",
    "    #name_active = 'State_Active_'+str(i)\n",
    "    #name_cum = 'State_Cumulative_Payment_'+str(i)\n",
    "    #dfA1u[name_active] = dfA1u['STATE'].replace(states,state_active_percent_list[num])\n",
    "    #dfA1u[name_cum] = dfA1u['STATE'].replace(states,state_cumulative_payment_at_time_avgs[num])\n",
    "\n",
    "dfA1u['ZIP_LL'] = dfA1u['ZIP'].replace(zips,lens)\n",
    "dfA1u['ZIP_UPB'] = dfA1u['ZIP'].replace(zips,upbs)\n",
    "#for i in [12,24,36,48,60]:\n",
    "    #num = int((i/12)-1)\n",
    "    #name_active = 'ZIP_Active_'+str(i)\n",
    "    #name_cum = 'ZIP_Cumulative_Payment_'+str(i)\n",
    "    #dfA1u[name_active] = dfA1u['ZIP'].replace(zips,active_percent_list[num])\n",
    "    #dfA1u[name_cum] = dfA1u['ZIP'].replace(zips,cumulative_payment_at_time_avgs[num])\n",
    "\n",
    "\n",
    "dfA1u = pd.get_dummies(dfA1u,columns=['OCHANNEL','OCC_STATUS','FIRST_TIME_IND','LOAN_PURPOSE','PROPERTY_TYPE'])\n",
    "\n",
    "l2 = list(dfA1u.groupby(['FIRST_PMT_DATE']).mean().index)\n",
    "date_ints2 = []\n",
    "for i in range(len(l2)):\n",
    "    date_ints2.append(i)\n",
    "l2.sort()\n",
    "dfA1u = dfA1u.replace(l2,date_ints2)\n",
    "\n",
    "dfA1u['REL_MORT_IND'] = dfA1u['REL_MORT_IND'].astype('category').cat.codes"
   ]
  },
  {
   "cell_type": "code",
   "execution_count": 11,
   "metadata": {},
   "outputs": [],
   "source": [
    "income_stats = pd.read_csv('/Users/jackarmand/Documents/Income Statistics States.csv')\n",
    "income_stats = income_stats[['Median Household Income','State']]\n",
    "state_replace = {'STATE':{list(income_stats['Median Household Income'])[i]:list(income_stats['State'])[i] for i in range(len(income_stats))}}\n",
    "dfA1u = dfA1.copy()\n",
    "dfA1u['STATE_MEDIAN_INCOME'] = dfA1['STATE'].replace(list(income_stats['State']),list(income_stats['Median Household Income']))\n",
    "dfA1u['STATE_MEDIAN_INCOME'] = dfA1u['STATE_MEDIAN_INCOME'].astype(int)\n",
    "dfA1u['STATE_LL'] = dfA1u['STATE'].replace(states,state_lens)\n",
    "dfA1u['STATE_UPB'] = dfA1u['STATE'].replace(states,state_upbs)\n",
    "#for i in [12,24,36,48,60]:\n",
    "    #num = int((i/12)-1)\n",
    "    #name_active = 'State_Active_'+str(i)\n",
    "    #name_cum = 'State_Cumulative_Payment_'+str(i)\n",
    "    #dfA1u[name_active] = dfA1u['STATE'].replace(states,state_active_percent_list[num])\n",
    "    #dfA1u[name_cum] = dfA1u['STATE'].replace(states,state_cumulative_payment_at_time_avgs[num])\n",
    "\n",
    "dfA1u['ZIP_LL'] = dfA1u['ZIP'].replace(zips,lens)\n",
    "dfA1u['ZIP_UPB'] = dfA1u['ZIP'].replace(zips,upbs)\n",
    "#for i in [12,24,36,48,60]:\n",
    "    #num = int((i/12)-1)\n",
    "    #name_active = 'ZIP_Active_'+str(i)\n",
    "    #name_cum = 'ZIP_Cumulative_Payment_'+str(i)\n",
    "    #dfA1u[name_active] = dfA1u['ZIP'].replace(zips,active_percent_list[num])\n",
    "    #dfA1u[name_cum] = dfA1u['ZIP'].replace(zips,cumulative_payment_at_time_avgs[num])\n",
    "\n",
    "\n",
    "dfA1u = pd.get_dummies(dfA1u,columns=['OCHANNEL','OCC_STATUS','FIRST_TIME_IND','LOAN_PURPOSE','PROPERTY_TYPE'])\n",
    "\n",
    "l2 = list(dfA1u.groupby(['FIRST_PMT_DATE']).mean().index)\n",
    "date_ints2 = []\n",
    "for i in range(len(l2)):\n",
    "    date_ints2.append(i)\n",
    "l2.sort()\n",
    "dfA1u = dfA1u.replace(l2,date_ints2)\n",
    "\n",
    "dfA1u['REL_MORT_IND'] = dfA1u['REL_MORT_IND'].astype('category').cat.codes"
   ]
  },
  {
   "cell_type": "code",
   "execution_count": 22,
   "metadata": {},
   "outputs": [
    {
     "name": "stdout",
     "output_type": "stream",
     "text": [
      "11.879917098385404\n",
      "12.063001247796732\n"
     ]
    }
   ],
   "source": [
    "#Testing to see if using regression fill would work better on all variables with NaN values, not just the ones with highly correlated other statistics as I have done up to this point\n",
    "from sklearn.model_selection import train_test_split\n",
    "\n",
    "dfA1nn = dfA1u.dropna(axis=1,how='any')\n",
    "dfA1nn = dfA1nn.select_dtypes(include=['float64','int64','int8','uint8'])\n",
    "dfA1nn['DTI'] = dfA1u['DTI'].copy()\n",
    "dfA1nn = dfA1nn.dropna(axis=0,how='any')\n",
    "X = dfA1nn.drop('DTI',axis=1)\n",
    "y = dfA1nn['DTI']\n",
    "ols = LinearRegression()\n",
    "X_train,X_test,y_train,y_test = train_test_split(X,y,random_state=42)\n",
    "model = ols.fit(X_train,y_train)\n",
    "ptest = model.predict(X_test)\n",
    "ptestavg = []\n",
    "for i in range(len(y_test)):\n",
    "    ptestavg.append(y_train.mean())\n",
    "\n",
    "from sklearn.metrics import r2_score, mean_squared_error\n",
    "r2_score(y_test,ptest)\n",
    "print(mean_squared_error(y_test,ptest)**0.5)\n",
    "print(mean_squared_error(y_test,ptestavg)**0.5)"
   ]
  },
  {
   "cell_type": "code",
   "execution_count": 23,
   "metadata": {},
   "outputs": [],
   "source": [
    "dfA1r = dfA1u.select_dtypes(include=['float64','int64','int8','uint8'])            \n",
    "l1 = [['LTV','MORT_INS_PCT'],['MORT_INS_PCT','LTV'],['CREDIT_SCORE','CO_CREDIT_SCORE'],['CO_CREDIT_SCORE','CREDIT_SCORE']]\n",
    "for i in l1:\n",
    "    regression_fill(dfA1r,i)\n",
    "dfA1r = dfA1r.fillna(dfA1r.mean())"
   ]
  },
  {
   "cell_type": "code",
   "execution_count": 67,
   "metadata": {},
   "outputs": [],
   "source": [
    "income_stats = pd.read_csv('/Users/jackarmand/Documents/Income Statistics States.csv')\n",
    "income_stats = income_stats[['Median Household Income','State']]\n",
    "state_replace = {'STATE':{list(income_stats['Median Household Income'])[i]:list(income_stats['State'])[i] for i in range(len(income_stats))}}\n",
    "dfA2u = dfA2.copy()\n",
    "dfA2u['STATE_MEDIAN_INCOME'] = dfA2['STATE'].replace(list(income_stats['State']),list(income_stats['Median Household Income']))\n",
    "dfA2u['STATE_MEDIAN_INCOME'] = dfA2u['STATE_MEDIAN_INCOME'].astype(int)\n",
    "dfA2u['STATE_LL'] = dfA2u['STATE'].replace(states,state_lens)\n",
    "dfA2u['STATE_UPB'] = dfA2u['STATE'].replace(states,state_upbs)\n",
    "#for i in [12,24,36,48,60]:\n",
    "    #num = int((i/12)-1)\n",
    "    #name_active = 'State_Active_'+str(i)\n",
    "    #name_cum = 'State_Cumulative_Payment_'+str(i)\n",
    "    #dfA2u[name_active] = dfA2u['STATE'].replace(states,state_active_percent_list[num])\n",
    "    #dfA2u[name_cum] = dfA2u['STATE'].replace(states,state_cumulative_payment_at_time_avgs[num])\n",
    "\n",
    "dfA2u['ZIP_LL'] = dfA2u['ZIP'].replace(zips,lens)\n",
    "dfA2u['ZIP_UPB'] = dfA2u['ZIP'].replace(zips,upbs)\n",
    "#for i in [12,24,36,48,60]:\n",
    "    #num = int((i/12)-1)\n",
    "    #name_active = 'ZIP_Active_'+str(i)\n",
    "    #name_cum = 'ZIP_Cumulative_Payment_'+str(i)\n",
    "    #dfA2u[name_active] = dfA2u['ZIP'].replace(zips,active_percent_list[num])\n",
    "    #dfA2u[name_cum] = dfA2u['ZIP'].replace(zips,cumulative_payment_at_time_avgs[num])\n",
    "\n",
    "\n",
    "dfA2u = pd.get_dummies(dfA2u,columns=['OCHANNEL','OCC_STATUS','FIRST_TIME_IND','LOAN_PURPOSE','PROPERTY_TYPE'])\n",
    "\n",
    "l2 = list(dfA2u.groupby(['FIRST_PMT_DATE']).mean().index)\n",
    "date_ints2 = []\n",
    "for i in range(len(l2)):\n",
    "    date_ints2.append(i)\n",
    "l2.sort()\n",
    "dfA2u = dfA2u.replace(l2,date_ints2)\n",
    "\n",
    "dfA2u['REL_MORT_IND'] = dfA2u['REL_MORT_IND'].astype('category').cat.codes"
   ]
  },
  {
   "cell_type": "code",
   "execution_count": 68,
   "metadata": {},
   "outputs": [],
   "source": [
    "dfA2r = dfA2u.select_dtypes(include=['float64','int64','int8','uint8'])            \n",
    "l1 = [['LTV','MORT_INS_PCT'],['MORT_INS_PCT','LTV'],['CREDIT_SCORE','CO_CREDIT_SCORE'],['CO_CREDIT_SCORE','CREDIT_SCORE']]\n",
    "for i in l1:\n",
    "    regression_fill(dfA2r,i)\n",
    "dfA2r = dfA2r.fillna(dfA2r.mean())"
   ]
  },
  {
   "cell_type": "code",
   "execution_count": 287,
   "metadata": {
    "jupyter": {
     "source_hidden": true
    }
   },
   "outputs": [],
   "source": [
    "cl = ['LTV','CLTV','NBORROWERS','DTI','CREDIT_SCORE','MORT_INS_PCT','CO_CREDIT_SCORE','MORT_INS_TYPE']"
   ]
  },
  {
   "cell_type": "code",
   "execution_count": 288,
   "metadata": {
    "collapsed": true,
    "jupyter": {
     "outputs_hidden": true,
     "source_hidden": true
    }
   },
   "outputs": [
    {
     "data": {
      "text/plain": [
       "<matplotlib.axes._subplots.AxesSubplot at 0x1a71a54b38>"
      ]
     },
     "execution_count": 288,
     "metadata": {},
     "output_type": "execute_result"
    },
    {
     "data": {
      "image/png": "[encoded data removed]",
      "text/plain": [
       "<Figure size 432x288 with 2 Axes>"
      ]
     },
     "metadata": {
      "needs_background": "light"
     },
     "output_type": "display_data"
    }
   ],
   "source": [
    "dfA1t = dfA1u.select_dtypes(include=['float64','int64','int8','uint8'])\n",
    "dfA1t = dfA1t.dropna(axis=0,how='any')\n",
    "import seaborn as sns\n",
    "sns.heatmap(dfA1t[cl].corr())"
   ]
  },
  {
   "cell_type": "code",
   "execution_count": 313,
   "metadata": {
    "collapsed": true,
    "jupyter": {
     "outputs_hidden": true,
     "source_hidden": true
    }
   },
   "outputs": [
    {
     "name": "stdout",
     "output_type": "stream",
     "text": [
      "156564\n"
     ]
    },
    {
     "data": {
      "text/plain": [
       "0.4312238787635293"
      ]
     },
     "execution_count": 313,
     "metadata": {},
     "output_type": "execute_result"
    }
   ],
   "source": [
    "#Seeing how well using regression to fill values for LTV using MORT_INS_PCT and vice versa works\n",
    "test = dfA1u[['LTV','CLTV','MORT_INS_PCT']]\n",
    "print(len(test))\n",
    "t2 = test.dropna(axis=0,how='all')\n",
    "t3 = test.dropna(axis=0,how='any')\n",
    "\n",
    "len(t2)\n",
    "ols = LinearRegression()\n",
    "\n",
    "from sklearn.model_selection import train_test_split\n",
    "\n",
    "Xtrain,Xtest,ytrain,ytest = train_test_split(t3['MORT_INS_PCT'],t3['CLTV'])\n",
    "model = ols.fit(np.asarray(Xtrain).reshape(-1,1),ytrain)\n",
    "preds = model.predict(np.asarray(Xtest).reshape(-1,1))\n",
    "r2_score(ytest,preds)"
   ]
  },
  {
   "cell_type": "code",
   "execution_count": 305,
   "metadata": {
    "collapsed": true,
    "jupyter": {
     "outputs_hidden": true,
     "source_hidden": true
    }
   },
   "outputs": [
    {
     "name": "stdout",
     "output_type": "stream",
     "text": [
      "156564\n",
      "154862\n"
     ]
    },
    {
     "data": {
      "text/plain": [
       "0.4918717594514025"
      ]
     },
     "execution_count": 305,
     "metadata": {},
     "output_type": "execute_result"
    }
   ],
   "source": [
    "#Seeing how well using credit score regression to fill values works\n",
    "test = dfA1u[['CREDIT_SCORE','CO_CREDIT_SCORE']]\n",
    "print(len(test))\n",
    "t2 = test.dropna(axis=0,how='all')\n",
    "print(len(t2))\n",
    "t3 = test.dropna(axis=0,how='any')\n",
    "\n",
    "Xtrain,Xtest,ytrain,ytest = train_test_split(t3['CREDIT_SCORE'],t3['CO_CREDIT_SCORE'])\n",
    "model = ols.fit(np.asarray(Xtrain).reshape(-1,1),ytrain)\n",
    "preds = model.predict(np.asarray(Xtest).reshape(-1,1))\n",
    "r2_score(ytest,preds)"
   ]
  },
  {
   "cell_type": "markdown",
   "metadata": {
    "jupyter": {
     "source_hidden": true
    }
   },
   "source": [
    "- LTV<-->CLTV\n",
    "- MORT_INS_PCT<-->LTV,CLTV\n",
    "- CREDIT_SCORE<-->CO_CREDIT_SCORE\n"
   ]
  },
  {
   "cell_type": "code",
   "execution_count": 13,
   "metadata": {},
   "outputs": [],
   "source": [
    "from sklearn.preprocessing import PolynomialFeatures\n",
    "def create_regression_XY(dfA0,dfCF0,dfA1,dfCF1,i):\n",
    "    dfA0n = dfA0.copy()\n",
    "    name = 'Cumulative_Payment_'+str(i)\n",
    "    dfA0n['Cumulative Payment'] = dfCF0[name]\n",
    "    X = dfA0n.drop(['Cumulative Payment'],axis='columns')\n",
    "    y = dfA0n['Cumulative Payment']\n",
    "    \n",
    "    poly = PolynomialFeatures(2)\n",
    "    X_p = poly.fit_transform(X)\n",
    "    names = poly.get_feature_names(X.columns)\n",
    "    X = pd.DataFrame(X_p)\n",
    "    X.columns=names\n",
    "    \n",
    "    dfA1n = dfA1.copy()\n",
    "    dfA1n['Cumulative Payment'] = dfCF1[name]\n",
    "    X_test = dfA1n.drop(['Cumulative Payment'],axis='columns')\n",
    "    y_test = dfA1n['Cumulative Payment']\n",
    "    \n",
    "    X_test_p = poly.fit_transform(X_test)\n",
    "    names = poly.get_feature_names(X_test.columns)\n",
    "    X_test = pd.DataFrame(X_test_p)\n",
    "    X_test.columns=names\n",
    "    return X,y,X_test,y_test"
   ]
  },
  {
   "cell_type": "code",
   "execution_count": 36,
   "metadata": {},
   "outputs": [],
   "source": [
    "def create_classification_XY(dfA0,dfCF0,dfA1,dfCF1,i):\n",
    "    dfA0n = dfA0.copy()\n",
    "    name = 'Active_'+str(i)\n",
    "    dfA0n['Active'] = dfCF0[name]\n",
    "    X = dfA0n.drop(['Active'],axis='columns')\n",
    "    y = dfA0n['Active']\n",
    "    \n",
    "    poly = PolynomialFeatures(2)\n",
    "    X_p = poly.fit_transform(X)\n",
    "    names = poly.get_feature_names(X.columns)\n",
    "    X = pd.DataFrame(X_p)\n",
    "    X.columns=names\n",
    "    \n",
    "    dfA1n = dfA1.copy()\n",
    "    dfA1n['Active'] = dfCF1[name]\n",
    "    X_test = dfA1n.drop(['Active'],axis='columns')\n",
    "    y_test = dfA1n['Active']\n",
    "    lids = list(X_test.index)\n",
    "    \n",
    "    X_test_p = poly.fit_transform(X_test)\n",
    "    names = poly.get_feature_names(X_test.columns)\n",
    "    X_test = pd.DataFrame(X_test_p)\n",
    "    X_test.columns=names\n",
    "    return X,y,X_test,y_test,lids"
   ]
  },
  {
   "cell_type": "code",
   "execution_count": 15,
   "metadata": {},
   "outputs": [],
   "source": [
    "XYs_12 = create_regression_XY(dfA0r,dfCF0_summary,dfA1r,dfCF1_summary,12)\n",
    "XYs_24 = create_regression_XY(dfA0r,dfCF0_summary,dfA1r,dfCF1_summary,24)\n",
    "XYs_36 = create_regression_XY(dfA0r,dfCF0_summary,dfA1r,dfCF1_summary,36)\n",
    "XYs_48 = create_regression_XY(dfA0r,dfCF0_summary,dfA1r,dfCF1_summary,48)\n",
    "XYs_60 = create_regression_XY(dfA0r,dfCF0_summary,dfA1r,dfCF1_summary,60)"
   ]
  },
  {
   "cell_type": "code",
   "execution_count": 37,
   "metadata": {},
   "outputs": [],
   "source": [
    "XYs_12_class = create_classification_XY(dfA0r,dfCF0_summary,dfA1r,dfCF1_summary,12)\n",
    "XYs_24_class = create_classification_XY(dfA0r,dfCF0_summary,dfA1r,dfCF1_summary,24)\n",
    "XYs_36_class = create_classification_XY(dfA0r,dfCF0_summary,dfA1r,dfCF1_summary,36)\n",
    "XYs_48_class = create_classification_XY(dfA0r,dfCF0_summary,dfA1r,dfCF1_summary,48)\n",
    "XYs_60_class = create_classification_XY(dfA0r,dfCF0_summary,dfA1r,dfCF1_summary,60)"
   ]
  },
  {
   "cell_type": "code",
   "execution_count": 55,
   "metadata": {},
   "outputs": [],
   "source": [
    "from sklearn.linear_model import LinearRegression, Ridge, Lasso\n",
    "from sklearn.ensemble import ExtraTreesRegressor\n",
    "\n",
    "def regression(XYs,m):\n",
    "    X = XYs[0]\n",
    "    y = XYs[1]\n",
    "    X_test = XYs[2]\n",
    "    y_test = XYs[3]\n",
    "    ols = LinearRegression()\n",
    "    #ols = ExtraTreesRegressor(n_estimators=20)\n",
    "    model = ols.fit(X,y)\n",
    "    pred = model.predict(X_test)\n",
    "    from sklearn.metrics import r2_score, mean_squared_error, mean_absolute_error\n",
    "    print('M='+str(m))\n",
    "    print(r2_score(y_test,pred))\n",
    "    print((mean_absolute_error(y_test,pred)))\n",
    "    print('\\n')"
   ]
  },
  {
   "cell_type": "code",
   "execution_count": 59,
   "metadata": {},
   "outputs": [],
   "source": [
    "from sklearn.linear_model import LogisticRegression, SGDClassifier\n",
    "from sklearn.model_selection import train_test_split\n",
    "from sklearn.ensemble import ExtraTreesClassifier\n",
    "from sklearn.neighbors import KNeighborsClassifier\n",
    "from sklearn.svm import SVC\n",
    "def classification(XYs,m):\n",
    "    lids = XYs[4]\n",
    "    X = XYs[0]\n",
    "    y = XYs[1]\n",
    "    X_test = XYs[2]\n",
    "    y_test = XYs[3]\n",
    "    ols = ExtraTreesClassifier(n_estimators=20,random_state=42)\n",
    "    #ols = LogisticRegression()\n",
    "\n",
    "    model = ols.fit(X,y)\n",
    "    pred = model.predict(X_test)\n",
    "    probs = model.predict_proba(X_test)\n",
    "\n",
    "    from sklearn.metrics import accuracy_score, confusion_matrix, mean_absolute_error\n",
    "    \n",
    "    print('M='+str(m))\n",
    "    print(accuracy_score(y_test,pred))\n",
    "    print(confusion_matrix(y_test,pred))\n",
    "    off = np.asarray(((probs[:,1]-y_test)**2)**0.5).mean()\n",
    "    print(mean_absolute_error(y_test,probs[:,1]))\n",
    "    print(off)\n",
    "    print('\\n')\n",
    "    return probs[:,1],X_test,y_test"
   ]
  },
  {
   "cell_type": "code",
   "execution_count": 56,
   "metadata": {
    "collapsed": true,
    "jupyter": {
     "outputs_hidden": true
    }
   },
   "outputs": [
    {
     "name": "stdout",
     "output_type": "stream",
     "text": [
      "M=12\n",
      "0.29941067850759695\n",
      "39922.61652249142\n",
      "\n",
      "\n",
      "M=24\n",
      "0.5299157668402321\n",
      "48726.97250482252\n",
      "\n",
      "\n",
      "M=36\n",
      "0.761616326692681\n",
      "26222.47505859877\n",
      "\n",
      "\n",
      "M=48\n",
      "0.8535575502936065\n",
      "17232.37119794675\n",
      "\n",
      "\n",
      "M=60\n",
      "0.900651214451824\n",
      "13047.305246662307\n",
      "\n",
      "\n"
     ]
    }
   ],
   "source": [
    "regression(XYs_12,12)\n",
    "regression(XYs_24,24)\n",
    "regression(XYs_36,36)\n",
    "regression(XYs_48,48)\n",
    "regression(XYs_60,60)"
   ]
  },
  {
   "cell_type": "code",
   "execution_count": 64,
   "metadata": {},
   "outputs": [],
   "source": [
    "pXy_12df = pd.DataFrame(pXy_12[2])\n",
    "pXy_12df['Prob'] = pXy_12[0]\n",
    "off = np.asarray(((pXy_12df['Prob']-pXy_12df['Active'])**2)**0.5).mean()"
   ]
  },
  {
   "cell_type": "code",
   "execution_count": 23,
   "metadata": {
    "collapsed": true,
    "jupyter": {
     "outputs_hidden": true
    }
   },
   "outputs": [
    {
     "name": "stdout",
     "output_type": "stream",
     "text": [
      "M=12\n",
      "0.8296671009938428\n",
      "[[  6276  20918]\n",
      " [  5750 123620]]\n",
      "0.2512863749009989\n",
      "\n",
      "\n",
      "M=24\n",
      "0.6533238803300887\n",
      "[[55037 24705]\n",
      " [29572 47250]]\n",
      "0.41504592371170895\n",
      "\n",
      "\n",
      "M=36\n",
      "0.7922958023555862\n",
      "[[116950   6001]\n",
      " [ 26518   7095]]\n",
      "0.28929143992233214\n",
      "\n",
      "\n",
      "M=48\n",
      "0.8613410490278736\n",
      "[[132597   2485]\n",
      " [ 19224   2258]]\n",
      "0.21281345009069771\n",
      "\n",
      "\n",
      "M=60\n",
      "0.8987378963235482\n",
      "[[139782   1208]\n",
      " [ 14646    928]]\n",
      "0.16704047546051454\n",
      "\n",
      "\n"
     ]
    }
   ],
   "source": [
    "classification(XYs_12_class,12)\n",
    "classification(XYs_24_class,24)\n",
    "classification(XYs_36_class,36)\n",
    "classification(XYs_48_class,48)\n",
    "classification(XYs_60_class,60)"
   ]
  },
  {
   "cell_type": "markdown",
   "metadata": {},
   "source": [
    "# Testing on CF1: Final Results\n",
    "\n",
    "### Regression (Cumulative Payment)\n",
    "#### Format:\n",
    "\n",
    "M=(# of months)\n",
    "- R2 score\n",
    "- Mean absolute error\n",
    "\n",
    "M=12\n",
    "- 0.29941067850759695\n",
    "- 39922.61652249142\n",
    "\n",
    "\n",
    "M=24\n",
    "- 0.5299157668402321\n",
    "- 48726.97250482252\n",
    "\n",
    "\n",
    "M=36\n",
    "- 0.761616326692681\n",
    "- 26222.47505859877\n",
    "\n",
    "\n",
    "M=48\n",
    "- 0.8535575502936065\n",
    "- 17232.37119794675\n",
    "\n",
    "\n",
    "M=60\n",
    "- 0.900651214451824\n",
    "- 13047.305246662307\n",
    "\n",
    "### Classification (Active or Not Active)\n",
    "\n",
    "Format:\n",
    "\n",
    "M=(# of months)\n",
    "- Accuracy Score\n",
    "- Confusion Matrix\n",
    "- Average absolute diffence p-hat minus Y\n",
    "\n",
    "M=12\n",
    "- 0.8296671009938428\n",
    "- [[  6276  20918]\n",
    "[  5750 123620]]\n",
    "- 0.2512863749009989\n",
    "\n",
    "\n",
    "M=24\n",
    "- 0.6533238803300887\n",
    "- [[55037 24705]\n",
    " [29572 47250]]\n",
    "- 0.41504592371170895\n",
    "\n",
    "\n",
    "M=36\n",
    "- 0.7922958023555862\n",
    "- [[116950   6001]\n",
    " [ 26518   7095]]\n",
    "- 0.28929143992233214\n",
    "\n",
    "\n",
    "M=48\n",
    "- 0.8613410490278736\n",
    "- [[132597   2485]\n",
    " [ 19224   2258]]\n",
    "- 0.21281345009069771\n",
    "\n",
    "\n",
    "M=60\n",
    "- 0.8987378963235482\n",
    "- [[139782   1208]\n",
    " [ 14646    928]]\n",
    "- 0.16704047546051454"
   ]
  },
  {
   "cell_type": "markdown",
   "metadata": {},
   "source": [
    "# Different Classifcation Model Scores on m=24\n",
    "- Logistic:\n",
    "    - 0.64749\n",
    "    - abs prob error: .4415\n",
    "- ExtraTrees:\n",
    "    - 0.6536\n",
    "    - abs prob error: .415\n",
    "    - Using average UPB and \n",
    "    - Note: Using regression fill slightly improves performance of the extra trees classifier\n",
    "- KNN\n",
    "    - .62\n",
    "- SGD\n",
    "    - .49\n",
    "    - Out of box, would likely perform better with hyperparameter tuning but this seemed bad enough out of box to not spend a lot of time on"
   ]
  },
  {
   "cell_type": "code",
   "execution_count": 26,
   "metadata": {},
   "outputs": [
    {
     "data": {
      "text/plain": [
       "0.5093252599575893"
      ]
     },
     "execution_count": 26,
     "metadata": {},
     "output_type": "execute_result"
    }
   ],
   "source": [
    "#What percent of loans in the test set are active for m=24\n",
    "y_test = XYs_24_class[3]\n",
    "zeros = list(y_test).count(0)\n",
    "length = len(list(y_test))\n",
    "zeros/length"
   ]
  },
  {
   "cell_type": "code",
   "execution_count": 61,
   "metadata": {},
   "outputs": [],
   "source": [
    "df1 = dfA1r.copy()\n",
    "df1['Active_24'] = dfCF1_summary['Active_24']\n",
    "X = df1.drop('Active_24',axis=1)\n",
    "y = df1['Active_24']\n",
    "X_train,X_test,y_train,y_test = train_test_split(X,y,random_state=42, test_size=.7)"
   ]
  },
  {
   "cell_type": "code",
   "execution_count": 64,
   "metadata": {},
   "outputs": [
    {
     "name": "stdout",
     "output_type": "stream",
     "text": [
      "Epoch 1/10\n",
      "46969/46969 [==============================] - 33s 706us/step - loss: 53.1985 - accuracy: 0.5039 1s - loss: 55.\n",
      "Epoch 2/10\n",
      "46969/46969 [==============================] - 35s 741us/step - loss: 0.7678 - accuracy: 0.5080\n",
      "Epoch 3/10\n",
      "38335/46969 [=======================>......] - ETA: 5s - loss: 0.7253 - accuracy: 0.5084"
     ]
    },
    {
     "ename": "KeyboardInterrupt",
     "evalue": "",
     "output_type": "error",
     "traceback": [
      "\u001b[0;31m---------------------------------------------------------------------------\u001b[0m",
      "\u001b[0;31mKeyboardInterrupt\u001b[0m                         Traceback (most recent call last)",
      "\u001b[0;32m<ipython-input-64-4671b688b719>\u001b[0m in \u001b[0;36m<module>\u001b[0;34m\u001b[0m\n\u001b[1;32m     17\u001b[0m \u001b[0mmodel\u001b[0m\u001b[0;34m.\u001b[0m\u001b[0mcompile\u001b[0m\u001b[0;34m(\u001b[0m\u001b[0mloss\u001b[0m\u001b[0;34m=\u001b[0m\u001b[0;34m'binary_crossentropy'\u001b[0m\u001b[0;34m,\u001b[0m \u001b[0moptimizer\u001b[0m\u001b[0;34m=\u001b[0m\u001b[0;34m'adam'\u001b[0m\u001b[0;34m,\u001b[0m \u001b[0mmetrics\u001b[0m\u001b[0;34m=\u001b[0m\u001b[0;34m[\u001b[0m\u001b[0;34m'accuracy'\u001b[0m\u001b[0;34m]\u001b[0m\u001b[0;34m)\u001b[0m\u001b[0;34m\u001b[0m\u001b[0;34m\u001b[0m\u001b[0m\n\u001b[1;32m     18\u001b[0m \u001b[0;34m\u001b[0m\u001b[0m\n\u001b[0;32m---> 19\u001b[0;31m \u001b[0mmodel\u001b[0m\u001b[0;34m.\u001b[0m\u001b[0mfit\u001b[0m\u001b[0;34m(\u001b[0m\u001b[0mX_train\u001b[0m\u001b[0;34m,\u001b[0m \u001b[0my_train\u001b[0m\u001b[0;34m,\u001b[0m \u001b[0mepochs\u001b[0m\u001b[0;34m=\u001b[0m\u001b[0;36m10\u001b[0m\u001b[0;34m,\u001b[0m \u001b[0mbatch_size\u001b[0m\u001b[0;34m=\u001b[0m\u001b[0;36m5\u001b[0m\u001b[0;34m)\u001b[0m\u001b[0;34m\u001b[0m\u001b[0;34m\u001b[0m\u001b[0m\n\u001b[0m\u001b[1;32m     20\u001b[0m \u001b[0;34m\u001b[0m\u001b[0m\n\u001b[1;32m     21\u001b[0m \u001b[0m_\u001b[0m\u001b[0;34m,\u001b[0m \u001b[0maccuracy\u001b[0m \u001b[0;34m=\u001b[0m \u001b[0mmodel\u001b[0m\u001b[0;34m.\u001b[0m\u001b[0mevaluate\u001b[0m\u001b[0;34m(\u001b[0m\u001b[0mX_train\u001b[0m\u001b[0;34m,\u001b[0m \u001b[0my_train\u001b[0m\u001b[0;34m)\u001b[0m\u001b[0;34m\u001b[0m\u001b[0;34m\u001b[0m\u001b[0m\n",
      "\u001b[0;32m/opt/anaconda3/lib/python3.7/site-packages/keras/engine/training.py\u001b[0m in \u001b[0;36mfit\u001b[0;34m(self, x, y, batch_size, epochs, verbose, callbacks, validation_split, validation_data, shuffle, class_weight, sample_weight, initial_epoch, steps_per_epoch, validation_steps, validation_freq, max_queue_size, workers, use_multiprocessing, **kwargs)\u001b[0m\n\u001b[1;32m   1237\u001b[0m                                         \u001b[0msteps_per_epoch\u001b[0m\u001b[0;34m=\u001b[0m\u001b[0msteps_per_epoch\u001b[0m\u001b[0;34m,\u001b[0m\u001b[0;34m\u001b[0m\u001b[0;34m\u001b[0m\u001b[0m\n\u001b[1;32m   1238\u001b[0m                                         \u001b[0mvalidation_steps\u001b[0m\u001b[0;34m=\u001b[0m\u001b[0mvalidation_steps\u001b[0m\u001b[0;34m,\u001b[0m\u001b[0;34m\u001b[0m\u001b[0;34m\u001b[0m\u001b[0m\n\u001b[0;32m-> 1239\u001b[0;31m                                         validation_freq=validation_freq)\n\u001b[0m\u001b[1;32m   1240\u001b[0m \u001b[0;34m\u001b[0m\u001b[0m\n\u001b[1;32m   1241\u001b[0m     def evaluate(self,\n",
      "\u001b[0;32m/opt/anaconda3/lib/python3.7/site-packages/keras/engine/training_arrays.py\u001b[0m in \u001b[0;36mfit_loop\u001b[0;34m(model, fit_function, fit_inputs, out_labels, batch_size, epochs, verbose, callbacks, val_function, val_inputs, shuffle, initial_epoch, steps_per_epoch, validation_steps, validation_freq)\u001b[0m\n\u001b[1;32m    194\u001b[0m                     \u001b[0mins_batch\u001b[0m\u001b[0;34m[\u001b[0m\u001b[0mi\u001b[0m\u001b[0;34m]\u001b[0m \u001b[0;34m=\u001b[0m \u001b[0mins_batch\u001b[0m\u001b[0;34m[\u001b[0m\u001b[0mi\u001b[0m\u001b[0;34m]\u001b[0m\u001b[0;34m.\u001b[0m\u001b[0mtoarray\u001b[0m\u001b[0;34m(\u001b[0m\u001b[0;34m)\u001b[0m\u001b[0;34m\u001b[0m\u001b[0;34m\u001b[0m\u001b[0m\n\u001b[1;32m    195\u001b[0m \u001b[0;34m\u001b[0m\u001b[0m\n\u001b[0;32m--> 196\u001b[0;31m                 \u001b[0mouts\u001b[0m \u001b[0;34m=\u001b[0m \u001b[0mfit_function\u001b[0m\u001b[0;34m(\u001b[0m\u001b[0mins_batch\u001b[0m\u001b[0;34m)\u001b[0m\u001b[0;34m\u001b[0m\u001b[0;34m\u001b[0m\u001b[0m\n\u001b[0m\u001b[1;32m    197\u001b[0m                 \u001b[0mouts\u001b[0m \u001b[0;34m=\u001b[0m \u001b[0mto_list\u001b[0m\u001b[0;34m(\u001b[0m\u001b[0mouts\u001b[0m\u001b[0;34m)\u001b[0m\u001b[0;34m\u001b[0m\u001b[0;34m\u001b[0m\u001b[0m\n\u001b[1;32m    198\u001b[0m                 \u001b[0;32mfor\u001b[0m \u001b[0ml\u001b[0m\u001b[0;34m,\u001b[0m \u001b[0mo\u001b[0m \u001b[0;32min\u001b[0m \u001b[0mzip\u001b[0m\u001b[0;34m(\u001b[0m\u001b[0mout_labels\u001b[0m\u001b[0;34m,\u001b[0m \u001b[0mouts\u001b[0m\u001b[0;34m)\u001b[0m\u001b[0;34m:\u001b[0m\u001b[0;34m\u001b[0m\u001b[0;34m\u001b[0m\u001b[0m\n",
      "\u001b[0;32m/opt/anaconda3/lib/python3.7/site-packages/tensorflow_core/python/keras/backend.py\u001b[0m in \u001b[0;36m__call__\u001b[0;34m(self, inputs)\u001b[0m\n\u001b[1;32m   3725\u001b[0m         \u001b[0mvalue\u001b[0m \u001b[0;34m=\u001b[0m \u001b[0mmath_ops\u001b[0m\u001b[0;34m.\u001b[0m\u001b[0mcast\u001b[0m\u001b[0;34m(\u001b[0m\u001b[0mvalue\u001b[0m\u001b[0;34m,\u001b[0m \u001b[0mtensor\u001b[0m\u001b[0;34m.\u001b[0m\u001b[0mdtype\u001b[0m\u001b[0;34m)\u001b[0m\u001b[0;34m\u001b[0m\u001b[0;34m\u001b[0m\u001b[0m\n\u001b[1;32m   3726\u001b[0m       \u001b[0mconverted_inputs\u001b[0m\u001b[0;34m.\u001b[0m\u001b[0mappend\u001b[0m\u001b[0;34m(\u001b[0m\u001b[0mvalue\u001b[0m\u001b[0;34m)\u001b[0m\u001b[0;34m\u001b[0m\u001b[0;34m\u001b[0m\u001b[0m\n\u001b[0;32m-> 3727\u001b[0;31m     \u001b[0moutputs\u001b[0m \u001b[0;34m=\u001b[0m \u001b[0mself\u001b[0m\u001b[0;34m.\u001b[0m\u001b[0m_graph_fn\u001b[0m\u001b[0;34m(\u001b[0m\u001b[0;34m*\u001b[0m\u001b[0mconverted_inputs\u001b[0m\u001b[0;34m)\u001b[0m\u001b[0;34m\u001b[0m\u001b[0;34m\u001b[0m\u001b[0m\n\u001b[0m\u001b[1;32m   3728\u001b[0m \u001b[0;34m\u001b[0m\u001b[0m\n\u001b[1;32m   3729\u001b[0m     \u001b[0;31m# EagerTensor.numpy() will often make a copy to ensure memory safety.\u001b[0m\u001b[0;34m\u001b[0m\u001b[0;34m\u001b[0m\u001b[0;34m\u001b[0m\u001b[0m\n",
      "\u001b[0;32m/opt/anaconda3/lib/python3.7/site-packages/tensorflow_core/python/eager/function.py\u001b[0m in \u001b[0;36m__call__\u001b[0;34m(self, *args, **kwargs)\u001b[0m\n\u001b[1;32m   1549\u001b[0m       \u001b[0mTypeError\u001b[0m\u001b[0;34m:\u001b[0m \u001b[0mFor\u001b[0m \u001b[0minvalid\u001b[0m \u001b[0mpositional\u001b[0m\u001b[0;34m/\u001b[0m\u001b[0mkeyword\u001b[0m \u001b[0margument\u001b[0m \u001b[0mcombinations\u001b[0m\u001b[0;34m.\u001b[0m\u001b[0;34m\u001b[0m\u001b[0;34m\u001b[0m\u001b[0m\n\u001b[1;32m   1550\u001b[0m     \"\"\"\n\u001b[0;32m-> 1551\u001b[0;31m     \u001b[0;32mreturn\u001b[0m \u001b[0mself\u001b[0m\u001b[0;34m.\u001b[0m\u001b[0m_call_impl\u001b[0m\u001b[0;34m(\u001b[0m\u001b[0margs\u001b[0m\u001b[0;34m,\u001b[0m \u001b[0mkwargs\u001b[0m\u001b[0;34m)\u001b[0m\u001b[0;34m\u001b[0m\u001b[0;34m\u001b[0m\u001b[0m\n\u001b[0m\u001b[1;32m   1552\u001b[0m \u001b[0;34m\u001b[0m\u001b[0m\n\u001b[1;32m   1553\u001b[0m   \u001b[0;32mdef\u001b[0m \u001b[0m_call_impl\u001b[0m\u001b[0;34m(\u001b[0m\u001b[0mself\u001b[0m\u001b[0;34m,\u001b[0m \u001b[0margs\u001b[0m\u001b[0;34m,\u001b[0m \u001b[0mkwargs\u001b[0m\u001b[0;34m,\u001b[0m \u001b[0mcancellation_manager\u001b[0m\u001b[0;34m=\u001b[0m\u001b[0;32mNone\u001b[0m\u001b[0;34m)\u001b[0m\u001b[0;34m:\u001b[0m\u001b[0;34m\u001b[0m\u001b[0;34m\u001b[0m\u001b[0m\n",
      "\u001b[0;32m/opt/anaconda3/lib/python3.7/site-packages/tensorflow_core/python/eager/function.py\u001b[0m in \u001b[0;36m_call_impl\u001b[0;34m(self, args, kwargs, cancellation_manager)\u001b[0m\n\u001b[1;32m   1569\u001b[0m            \u001b[0;34m\"arguments may not be bound to Tensors within nested structures.\"\u001b[0m\u001b[0;34m\u001b[0m\u001b[0;34m\u001b[0m\u001b[0m\n\u001b[1;32m   1570\u001b[0m           ).format(self._num_positional_args, self._arg_keywords, args))\n\u001b[0;32m-> 1571\u001b[0;31m     \u001b[0margs\u001b[0m \u001b[0;34m=\u001b[0m \u001b[0mlist\u001b[0m\u001b[0;34m(\u001b[0m\u001b[0margs\u001b[0m\u001b[0;34m)\u001b[0m\u001b[0;34m\u001b[0m\u001b[0;34m\u001b[0m\u001b[0m\n\u001b[0m\u001b[1;32m   1572\u001b[0m     \u001b[0;32mfor\u001b[0m \u001b[0mkeyword\u001b[0m \u001b[0;32min\u001b[0m \u001b[0mself\u001b[0m\u001b[0;34m.\u001b[0m\u001b[0m_arg_keywords\u001b[0m\u001b[0;34m[\u001b[0m\u001b[0mlen\u001b[0m\u001b[0;34m(\u001b[0m\u001b[0margs\u001b[0m\u001b[0;34m)\u001b[0m\u001b[0;34m:\u001b[0m\u001b[0;34m]\u001b[0m\u001b[0;34m:\u001b[0m\u001b[0;34m\u001b[0m\u001b[0;34m\u001b[0m\u001b[0m\n\u001b[1;32m   1573\u001b[0m       \u001b[0;32mtry\u001b[0m\u001b[0;34m:\u001b[0m\u001b[0;34m\u001b[0m\u001b[0;34m\u001b[0m\u001b[0m\n",
      "\u001b[0;31mKeyboardInterrupt\u001b[0m: "
     ]
    }
   ],
   "source": [
    "from keras.models import Sequential\n",
    "from keras.layers import Dense, Dropout\n",
    "\n",
    "model = Sequential()\n",
    "model.add(Dense(1000, input_dim=len(list(X.columns)), activation='relu'))\n",
    "model.add(Dropout(0.5))\n",
    "model.add(Dense(100, activation='relu'))\n",
    "model.add(Dropout(0.5))\n",
    "model.add(Dense(50, activation='relu'))\n",
    "model.add(Dropout(0.5))\n",
    "model.add(Dense(25, activation='relu'))\n",
    "model.add(Dropout(0.5))\n",
    "model.add(Dense(10, activation='relu'))\n",
    "model.add(Dropout(0.5))\n",
    "model.add(Dense(1, activation='sigmoid'))\n",
    "\n",
    "model.compile(loss='binary_crossentropy', optimizer='adam', metrics=['accuracy'])\n",
    "\n",
    "model.fit(X_train, y_train, epochs=10, batch_size=5)\n",
    "\n",
    "_, accuracy = model.evaluate(X_train, y_train)\n",
    "print('Accuracy: %.2f' % (accuracy*100))"
   ]
  },
  {
   "cell_type": "code",
   "execution_count": 32,
   "metadata": {},
   "outputs": [
    {
     "name": "stderr",
     "output_type": "stream",
     "text": [
      "/opt/anaconda3/lib/python3.7/site-packages/numpy/core/fromnumeric.py:2495: FutureWarning:\n",
      "\n",
      "Method .ptp is deprecated and will be removed in a future version. Use numpy.ptp instead.\n",
      "\n"
     ]
    },
    {
     "name": "stdout",
     "output_type": "stream",
     "text": [
      "                            OLS Regression Results                            \n",
      "==============================================================================\n",
      "Dep. Variable:                      y   R-squared:                       0.165\n",
      "Model:                            OLS   Adj. R-squared:                  0.165\n",
      "Method:                 Least Squares   F-statistic:                     655.9\n",
      "Date:                Tue, 11 Feb 2020   Prob (F-statistic):               0.00\n",
      "Time:                        11:30:15   Log-Likelihood:                -69643.\n",
      "No. Observations:              109594   AIC:                         1.394e+05\n",
      "Df Residuals:                  109560   BIC:                         1.397e+05\n",
      "Df Model:                          33                                         \n",
      "Covariance Type:            nonrobust                                         \n",
      "=======================================================================================\n",
      "                          coef    std err          t      P>|t|      [0.025      0.975]\n",
      "---------------------------------------------------------------------------------------\n",
      "INT_RATE               -0.2310      0.003    -79.051      0.000      -0.237      -0.225\n",
      "UPB                 -1.984e-06   2.75e-08    -72.082      0.000   -2.04e-06   -1.93e-06\n",
      "TERM                    0.0002   2.28e-05      9.230      0.000       0.000       0.000\n",
      "FIRST_PMT_DATE         -0.0132      0.001    -21.655      0.000      -0.014      -0.012\n",
      "LTV                     0.0006      0.001      0.804      0.421      -0.001       0.002\n",
      "CLTV                 3.877e-05      0.001      0.056      0.955      -0.001       0.001\n",
      "NBORROWERS             -0.0246      0.003     -8.562      0.000      -0.030      -0.019\n",
      "DTI                 -8.304e-05      0.000     -0.691      0.490      -0.000       0.000\n",
      "CREDIT_SCORE           -0.0006   2.92e-05    -20.868      0.000      -0.001      -0.001\n",
      "NUNITS                  0.0771      0.006     12.866      0.000       0.065       0.089\n",
      "ZIP                  1.733e-06   5.56e-06      0.312      0.755   -9.17e-06    1.26e-05\n",
      "MORT_INS_PCT            0.0009      0.000      2.142      0.032    7.57e-05       0.002\n",
      "CO_CREDIT_SCORE        -0.0003   4.22e-05     -7.866      0.000      -0.000      -0.000\n",
      "MORT_INS_TYPE           0.0941      0.015      6.386      0.000       0.065       0.123\n",
      "REL_MORT_IND            0.0825      0.020      4.126      0.000       0.043       0.122\n",
      "group                   1.0556      0.025     42.777      0.000       1.007       1.104\n",
      "STATE_MEDIAN_INCOME  2.824e-06   3.23e-07      8.748      0.000    2.19e-06    3.46e-06\n",
      "STATE_LL                0.0114      0.000     38.056      0.000       0.011       0.012\n",
      "STATE_UPB            1.343e-06    1.4e-07      9.562      0.000    1.07e-06    1.62e-06\n",
      "ZIP_LL                  0.0016      0.000      8.177      0.000       0.001       0.002\n",
      "ZIP_UPB             -3.181e-07   8.16e-08     -3.899      0.000   -4.78e-07   -1.58e-07\n",
      "OCHANNEL_B              0.3577      0.009     41.513      0.000       0.341       0.375\n",
      "OCHANNEL_C              0.3446      0.009     40.529      0.000       0.328       0.361\n",
      "OCHANNEL_R              0.3533      0.008     42.445      0.000       0.337       0.370\n",
      "OCC_STATUS_I            0.4278      0.010     41.861      0.000       0.408       0.448\n",
      "OCC_STATUS_P            0.2840      0.008     33.635      0.000       0.267       0.301\n",
      "OCC_STATUS_S            0.3438      0.010     34.070      0.000       0.324       0.364\n",
      "FIRST_TIME_IND_N        0.3448      0.013     25.582      0.000       0.318       0.371\n",
      "FIRST_TIME_IND_U        0.3523      0.028     12.736      0.000       0.298       0.406\n",
      "FIRST_TIME_IND_Y        0.3585      0.014     25.945      0.000       0.331       0.386\n",
      "LOAN_PURPOSE_C          0.2785      0.025     11.190      0.000       0.230       0.327\n",
      "LOAN_PURPOSE_P          0.2717      0.025     10.872      0.000       0.223       0.321\n",
      "LOAN_PURPOSE_R          0.2406      0.025      9.668      0.000       0.192       0.289\n",
      "LOAN_PURPOSE_U          0.2649      0.084      3.164      0.002       0.101       0.429\n",
      "PROPERTY_TYPE_CO        0.1576      0.008     19.371      0.000       0.142       0.174\n",
      "PROPERTY_TYPE_CP        0.2572      0.019     13.854      0.000       0.221       0.294\n",
      "PROPERTY_TYPE_MH        0.3025      0.015     20.303      0.000       0.273       0.332\n",
      "PROPERTY_TYPE_PU        0.1634      0.008     20.142      0.000       0.147       0.179\n",
      "PROPERTY_TYPE_SF        0.1748      0.007     24.786      0.000       0.161       0.189\n",
      "==============================================================================\n",
      "Omnibus:                   945082.676   Durbin-Watson:                   1.998\n",
      "Prob(Omnibus):                  0.000   Jarque-Bera (JB):             9079.603\n",
      "Skew:                           0.011   Prob(JB):                         0.00\n",
      "Kurtosis:                       1.590   Cond. No.                     1.03e+16\n",
      "==============================================================================\n",
      "\n",
      "Warnings:\n",
      "[1] Standard Errors assume that the covariance matrix of the errors is correctly specified.\n",
      "[2] The smallest eigenvalue is 6.49e-17. This might indicate that there are\n",
      "strong multicollinearity problems or that the design matrix is singular.\n"
     ]
    }
   ],
   "source": [
    "#Using statsmodels to easily look at p-values for different parameters to try to reduce dimesnionality\n",
    "import statsmodels.api as sm\n",
    "\n",
    "X = X_train\n",
    "#X = X[newlist]\n",
    "y = y_train\n",
    "#X_test = X_test[newlist]\n",
    "\n",
    "X_sm = sm.add_constant(X)\n",
    "\n",
    "model = sm.OLS(list(y), X_sm).fit()\n",
    "predictions = model.predict(X_sm) \n",
    "\n",
    "print_model = model.summary()\n",
    "print(print_model)"
   ]
  },
  {
   "cell_type": "code",
   "execution_count": 21,
   "metadata": {
    "collapsed": true,
    "jupyter": {
     "outputs_hidden": true
    }
   },
   "outputs": [
    {
     "data": {
      "text/plain": [
       "['INT_RATE',\n",
       " 'UPB',\n",
       " 'TERM',\n",
       " 'OCHANNEL_R',\n",
       " 'OCC_STATUS_I',\n",
       " 'PROPERTY_TYPE_PU',\n",
       " 'INT_RATE^2',\n",
       " 'INT_RATE UPB',\n",
       " 'INT_RATE TERM',\n",
       " 'INT_RATE FIRST_PMT_DATE',\n",
       " 'INT_RATE CREDIT_SCORE',\n",
       " 'INT_RATE ZIP',\n",
       " 'INT_RATE MORT_INS_TYPE',\n",
       " 'INT_RATE STATE_MEDIAN_INCOME',\n",
       " 'INT_RATE STATE_LL',\n",
       " 'INT_RATE OCHANNEL_B',\n",
       " 'INT_RATE OCHANNEL_C',\n",
       " 'INT_RATE OCHANNEL_R',\n",
       " 'INT_RATE OCC_STATUS_I',\n",
       " 'INT_RATE OCC_STATUS_P',\n",
       " 'INT_RATE OCC_STATUS_S',\n",
       " 'INT_RATE FIRST_TIME_IND_N',\n",
       " 'INT_RATE FIRST_TIME_IND_Y',\n",
       " 'INT_RATE LOAN_PURPOSE_U',\n",
       " 'INT_RATE PROPERTY_TYPE_CO',\n",
       " 'INT_RATE PROPERTY_TYPE_CP',\n",
       " 'INT_RATE PROPERTY_TYPE_MH',\n",
       " 'INT_RATE PROPERTY_TYPE_PU',\n",
       " 'INT_RATE PROPERTY_TYPE_SF',\n",
       " 'UPB^2',\n",
       " 'UPB TERM',\n",
       " 'UPB FIRST_PMT_DATE',\n",
       " 'UPB NBORROWERS',\n",
       " 'UPB CREDIT_SCORE',\n",
       " 'UPB NUNITS',\n",
       " 'UPB MORT_INS_TYPE',\n",
       " 'UPB REL_MORT_IND',\n",
       " 'UPB STATE_LL',\n",
       " 'UPB STATE_UPB',\n",
       " 'UPB ZIP_LL',\n",
       " 'UPB ZIP_UPB',\n",
       " 'TERM NBORROWERS',\n",
       " 'TERM ZIP',\n",
       " 'TERM OCHANNEL_B',\n",
       " 'TERM OCHANNEL_C',\n",
       " 'TERM OCHANNEL_R',\n",
       " 'TERM OCC_STATUS_I',\n",
       " 'TERM OCC_STATUS_P',\n",
       " 'TERM OCC_STATUS_S',\n",
       " 'TERM LOAN_PURPOSE_C',\n",
       " 'TERM LOAN_PURPOSE_P',\n",
       " 'TERM LOAN_PURPOSE_R',\n",
       " 'TERM PROPERTY_TYPE_CO',\n",
       " 'TERM PROPERTY_TYPE_CP',\n",
       " 'TERM PROPERTY_TYPE_PU',\n",
       " 'TERM PROPERTY_TYPE_SF',\n",
       " 'FIRST_PMT_DATE^2',\n",
       " 'FIRST_PMT_DATE CREDIT_SCORE',\n",
       " 'FIRST_PMT_DATE NUNITS',\n",
       " 'FIRST_PMT_DATE STATE_LL',\n",
       " 'FIRST_PMT_DATE LOAN_PURPOSE_C',\n",
       " 'FIRST_PMT_DATE LOAN_PURPOSE_P',\n",
       " 'FIRST_PMT_DATE LOAN_PURPOSE_R',\n",
       " 'LTV NBORROWERS',\n",
       " 'LTV CO_CREDIT_SCORE',\n",
       " 'LTV STATE_MEDIAN_INCOME',\n",
       " 'LTV STATE_UPB',\n",
       " 'CLTV NBORROWERS',\n",
       " 'CLTV CO_CREDIT_SCORE',\n",
       " 'CLTV STATE_MEDIAN_INCOME',\n",
       " 'CLTV STATE_UPB',\n",
       " 'NBORROWERS^2',\n",
       " 'NBORROWERS DTI',\n",
       " 'NBORROWERS NUNITS',\n",
       " 'NBORROWERS group',\n",
       " 'DTI^2',\n",
       " 'DTI STATE_UPB',\n",
       " 'DTI LOAN_PURPOSE_C',\n",
       " 'DTI LOAN_PURPOSE_P',\n",
       " 'DTI LOAN_PURPOSE_R',\n",
       " 'DTI LOAN_PURPOSE_U',\n",
       " 'CREDIT_SCORE^2',\n",
       " 'CREDIT_SCORE NUNITS',\n",
       " 'CREDIT_SCORE ZIP',\n",
       " 'CREDIT_SCORE STATE_MEDIAN_INCOME',\n",
       " 'CREDIT_SCORE STATE_UPB',\n",
       " 'CREDIT_SCORE ZIP_UPB',\n",
       " 'CREDIT_SCORE OCC_STATUS_S',\n",
       " 'CREDIT_SCORE PROPERTY_TYPE_PU',\n",
       " 'CREDIT_SCORE PROPERTY_TYPE_SF',\n",
       " 'NUNITS^2',\n",
       " 'NUNITS MORT_INS_TYPE',\n",
       " 'ZIP^2',\n",
       " 'ZIP STATE_LL',\n",
       " 'ZIP OCHANNEL_C',\n",
       " 'ZIP OCC_STATUS_S',\n",
       " 'CO_CREDIT_SCORE^2',\n",
       " 'CO_CREDIT_SCORE OCC_STATUS_P',\n",
       " 'CO_CREDIT_SCORE FIRST_TIME_IND_N',\n",
       " 'MORT_INS_TYPE^2',\n",
       " 'REL_MORT_IND PROPERTY_TYPE_SF',\n",
       " 'STATE_MEDIAN_INCOME STATE_UPB',\n",
       " 'STATE_LL STATE_UPB',\n",
       " 'STATE_LL ZIP_LL',\n",
       " 'STATE_LL ZIP_UPB',\n",
       " 'STATE_UPB^2',\n",
       " 'STATE_UPB OCHANNEL_B',\n",
       " 'ZIP_LL ZIP_UPB',\n",
       " 'ZIP_LL OCHANNEL_C',\n",
       " 'ZIP_LL OCC_STATUS_P',\n",
       " 'ZIP_UPB^2',\n",
       " 'OCHANNEL_B OCC_STATUS_I',\n",
       " 'OCHANNEL_B PROPERTY_TYPE_PU',\n",
       " 'OCHANNEL_C OCC_STATUS_I',\n",
       " 'OCHANNEL_C PROPERTY_TYPE_PU',\n",
       " 'OCHANNEL_R^2',\n",
       " 'OCHANNEL_R OCC_STATUS_I',\n",
       " 'OCHANNEL_R OCC_STATUS_P',\n",
       " 'OCHANNEL_R PROPERTY_TYPE_PU',\n",
       " 'OCC_STATUS_I^2',\n",
       " 'OCC_STATUS_I LOAN_PURPOSE_C',\n",
       " 'OCC_STATUS_I LOAN_PURPOSE_P',\n",
       " 'OCC_STATUS_I LOAN_PURPOSE_R',\n",
       " 'OCC_STATUS_I PROPERTY_TYPE_PU',\n",
       " 'OCC_STATUS_I PROPERTY_TYPE_SF',\n",
       " 'OCC_STATUS_P PROPERTY_TYPE_PU',\n",
       " 'PROPERTY_TYPE_PU^2']"
      ]
     },
     "execution_count": 21,
     "metadata": {},
     "output_type": "execute_result"
    }
   ],
   "source": [
    "#Selecting attributes from statsmodels summary from based on their p-values. \n",
    "#Using the 'newlist' in the block above to re-run the model with selected attributes\n",
    "LRresult = model.summary2().tables[1]\n",
    "newlist = list(LRresult[LRresult['P>|t|']<=0.10].index)[1:]\n",
    "newlist"
   ]
  },
  {
   "cell_type": "markdown",
   "metadata": {},
   "source": [
    "# Null Hypothesis:\n",
    "- Using the average of the training set as the prediction for every value of the testing set, you get a mean absolute error of 87767.37 for m=24"
   ]
  },
  {
   "cell_type": "code",
   "execution_count": 29,
   "metadata": {},
   "outputs": [
    {
     "name": "stdout",
     "output_type": "stream",
     "text": [
      "87767.36819016135\n"
     ]
    }
   ],
   "source": [
    "#Null hypothesis\n",
    "from sklearn.metrics import mean_squared_error\n",
    "y = XYs_24[1]\n",
    "y_test = XYs_24[3]\n",
    "len(y_test)\n",
    "null_pred = []\n",
    "for i in range(len(y_test)):\n",
    "    null_pred.append(y.mean())\n",
    "print(mean_squared_error(y_test,null_pred)**.5)"
   ]
  },
  {
   "cell_type": "markdown",
   "metadata": {},
   "source": [
    "# Test 1\n",
    "- Linear Regression (including Lasso and Ridge)\n",
    "    - .503 R2 score training on entirty of data set 0 and testing on entirety of data set 1\n",
    "    - Mean absolute error of 61857.76\n",
    "        - An improvement over the null hypothesis, but probably could be better\n",
    "- ExtraTreesRegressor performed worse than LinearRegression\n",
    "- Things to play with:\n",
    "    - representing date in a different way\n",
    "    - representing state in a different way\n",
    "    - dealing with NaN values differently (currently used mean of row, this probably could be better)\n",
    "    \n",
    "# Test 2\n",
    "- Filled some NaN values with regression values (used other highly correlated stats to predict the values instead of simply using mean)\n",
    "- Used polynomial features\n",
    "- Results:\n",
    "    - For the stats that I opted to use regression values instead of mean values to fill NaN, there was not significant difference in model performance. I still want to play with doing this for more NaN fills, as in theory it should perform better\n",
    "    - Using polynomial features reduced mean absolute error from 61857.7559 to 60714.70 and increased R2 from .50 to .52 on test\n",
    "    \n",
    "# Test 3\n",
    "- Tried training the model only on rows that had no NaN values to begin with (as opposed to training on all of the rows with filled NaNs)\n",
    "- Results:\n",
    "    -  R2 and Absolute Error scores were slightly worse\n",
    "    \n",
    "# Test 4\n",
    "- Now have been playing around with the classification model a bunch. Have tried a bunch of different models, logistic and extratrees seem to work the best. ExtraTrees worked the best to start, but while testing I decided to do something kind of interesting which was use averages for loan length and UPB from JUST MY TRAINING DATA (very cognisant to avoid data leakage) as ways to represent zip codes and states. This helped both models, but logistic regression a lot more. I am assuming this is because ET probably handled the zip codes better just as they were\n",
    "\n",
    "# Test 5\n",
    "- For cumulative payment, tried to see what happened if ran the regression once, removed all of the parameters with p>0.05, and then ran again\n",
    "    - With significantly less parameters, I got very very similar (albiet slightly worse) results\n",
    "    - Even though it is very cool that I was able to get really similar results with way less parameters, the bottom line it with bost testing on the \"1\" data sets as well as splitting the \"0\" datasets and training and testing on split data, the results were consistently slightly worse. Because the run time was already managable, this is probably something I will not keep\n",
    "\n",
    "# Test 6\n",
    "- Played around with using regression fill for all of the columns that have NaN values\n",
    "- Up to this point, I used regression fill to fill values for columns that had at least one other column that was highly correlated to it, which makes regression fill very useful. But I wanted to see how much improvement I could get by using it for all categories\n",
    "- Results:\n",
    "    - Not much improvement. The difference in mean_absolute_error of the regression filled data and just filling with the mean was in the range of 1-2% improvement for all of the columns that I tried it for. Decided that this meant it was likely not worth implementing\n",
    "\n",
    "# Test 7\n",
    "- Tried representing some of the categorical data with hashing instead of OHE\n",
    "- Performance did not improve and actually got worse, which is honestly what I expected. All of the columns I tried this for only had between 3-5 categories, so OHE is probably going to be the best way to represent those\n",
    "    "
   ]
  },
  {
   "cell_type": "markdown",
   "metadata": {},
   "source": [
    "### Possible methods to convert categorical data to numerical considered:\n",
    "- Hashing\n",
    "- One hot encoiding\n",
    "- Using state population/GDP or the like as a way to represent states\n",
    "- Cat2vec\n",
    "    - Only would've really made sense for state, but got good results using state ecnomic data"
   ]
  },
  {
   "cell_type": "markdown",
   "metadata": {},
   "source": [
    "# Making the Predictions on A2"
   ]
  },
  {
   "cell_type": "code",
   "execution_count": 71,
   "metadata": {},
   "outputs": [],
   "source": [
    "# Creating total training set\n",
    "def create_classification_XY_for_2pred(dfA0,dfCF0,dfA1,dfCF1,i):\n",
    "    dfA0n = dfA0.copy()\n",
    "    dfA1n = dfA1.copy()\n",
    "    dfAtot = pd.concat([dfA0n,dfA1n],axis='index')\n",
    "    \n",
    "    dfCFtot = pd.concat([dfCF0,dfCF1],axis='index')\n",
    "    \n",
    "    name = 'Active_'+str(i)\n",
    "    dfAtot['Active'] = dfCFtot[name]\n",
    "    X = dfAtot.drop(['Active'],axis='columns')\n",
    "    y = dfAtot['Active']\n",
    "    \n",
    "    poly = PolynomialFeatures(2)\n",
    "    X_p = poly.fit_transform(X)\n",
    "    names = poly.get_feature_names(X.columns)\n",
    "    X = pd.DataFrame(X_p)\n",
    "    X.columns=names\n",
    "    return X,y"
   ]
  },
  {
   "cell_type": "code",
   "execution_count": 87,
   "metadata": {},
   "outputs": [],
   "source": [
    "# Creating total training set\n",
    "def create_regression_XY_for_2pred(dfA0,dfCF0,dfA1,dfCF1,i):\n",
    "    dfA0n = dfA0.copy()\n",
    "    dfA1n = dfA1.copy()\n",
    "    dfAtot = pd.concat([dfA0n,dfA1n],axis='index')\n",
    "    \n",
    "    dfCFtot = pd.concat([dfCF0,dfCF1],axis='index')\n",
    "    \n",
    "    name = 'Cumulative_Payment_'+str(i)    \n",
    "    dfAtot['Cumulative Payment'] = dfCFtot[name]\n",
    "    X = dfAtot.drop(['Cumulative Payment'],axis='columns')\n",
    "    y = dfAtot['Cumulative Payment']\n",
    "    \n",
    "    poly = PolynomialFeatures(2)\n",
    "    X_p = poly.fit_transform(X)\n",
    "    names = poly.get_feature_names(X.columns)\n",
    "    X = pd.DataFrame(X_p)\n",
    "    X.columns=names\n",
    "    return X,y"
   ]
  },
  {
   "cell_type": "code",
   "execution_count": 80,
   "metadata": {},
   "outputs": [],
   "source": [
    "def create_classification_X_test_for_2pred(dfA2,i):\n",
    "    dfA2n = dfA2.copy()\n",
    "    lids = list(dfA2n.index) \n",
    "    X = dfA2n\n",
    "    \n",
    "    poly = PolynomialFeatures(2)\n",
    "    X_p = poly.fit_transform(X)\n",
    "    names = poly.get_feature_names(X.columns)\n",
    "    X = pd.DataFrame(X_p)\n",
    "    X.columns=names\n",
    "    return X,lids"
   ]
  },
  {
   "cell_type": "code",
   "execution_count": 77,
   "metadata": {},
   "outputs": [],
   "source": [
    "XYs_12_class = create_classification_XY_for_2pred(dfA0r,dfCF0_summary,dfA1r,dfCF1_summary,12)\n",
    "XYs_24_class = create_classification_XY_for_2pred(dfA0r,dfCF0_summary,dfA1r,dfCF1_summary,24)\n",
    "XYs_36_class = create_classification_XY_for_2pred(dfA0r,dfCF0_summary,dfA1r,dfCF1_summary,36)\n",
    "XYs_48_class = create_classification_XY_for_2pred(dfA0r,dfCF0_summary,dfA1r,dfCF1_summary,48)\n",
    "XYs_60_class = create_classification_XY_for_2pred(dfA0r,dfCF0_summary,dfA1r,dfCF1_summary,60)"
   ]
  },
  {
   "cell_type": "code",
   "execution_count": 88,
   "metadata": {},
   "outputs": [],
   "source": [
    "XYs_12 = create_regression_XY_for_2pred(dfA0r,dfCF0_summary,dfA1r,dfCF1_summary,12)\n",
    "XYs_24 = create_regression_XY_for_2pred(dfA0r,dfCF0_summary,dfA1r,dfCF1_summary,24)\n",
    "XYs_36 = create_regression_XY_for_2pred(dfA0r,dfCF0_summary,dfA1r,dfCF1_summary,36)\n",
    "XYs_48 = create_regression_XY_for_2pred(dfA0r,dfCF0_summary,dfA1r,dfCF1_summary,48)\n",
    "XYs_60 = create_regression_XY_for_2pred(dfA0r,dfCF0_summary,dfA1r,dfCF1_summary,60)"
   ]
  },
  {
   "cell_type": "code",
   "execution_count": 81,
   "metadata": {},
   "outputs": [],
   "source": [
    "#Classification and rergression X_test for A2 are the same\n",
    "X_12_class_2 = create_classification_X_test_for_2pred(dfA2r,12)\n",
    "X_24_class_2 = create_classification_X_test_for_2pred(dfA2r,24)\n",
    "X_36_class_2 = create_classification_X_test_for_2pred(dfA2r,36)\n",
    "X_48_class_2 = create_classification_X_test_for_2pred(dfA2r,48)\n",
    "X_60_class_2 = create_classification_X_test_for_2pred(dfA2r,60)"
   ]
  },
  {
   "cell_type": "code",
   "execution_count": 90,
   "metadata": {},
   "outputs": [],
   "source": [
    "from sklearn.linear_model import LogisticRegression, SGDClassifier\n",
    "from sklearn.model_selection import train_test_split\n",
    "from sklearn.ensemble import ExtraTreesClassifier\n",
    "from sklearn.neighbors import KNeighborsClassifier\n",
    "from sklearn.svm import SVC\n",
    "def classification_on_2(XYs_train,Xs_test,m):\n",
    "    lids = Xs_test[1]\n",
    "    X = XYs_train[0]\n",
    "    y = XYs_train[1]\n",
    "    X_test = Xs_test[0]\n",
    "    \n",
    "    ols = ExtraTreesClassifier(n_estimators=20,random_state=42)\n",
    "    #ols = LogisticRegression()\n",
    "\n",
    "    model = ols.fit(X,y)\n",
    "    pred = model.predict(X_test)\n",
    "    probs = model.predict_proba(X_test)\n",
    "    \n",
    "    print('M='+str(m))\n",
    "    print('\\n')\n",
    "    name = 'p('+str(m)+')'\n",
    "    df = pd.DataFrame({'LID':lids,name:probs[:,1]})\n",
    "    df.set_index('LID',inplace=True)\n",
    "    return df"
   ]
  },
  {
   "cell_type": "code",
   "execution_count": 92,
   "metadata": {},
   "outputs": [],
   "source": [
    "from sklearn.linear_model import LinearRegression, Ridge, Lasso\n",
    "from sklearn.ensemble import ExtraTreesRegressor\n",
    "\n",
    "def regression_on_2(XYs_train,Xs_test,m):\n",
    "    lids = Xs_test[1]\n",
    "    X = XYs_train[0]\n",
    "    y = XYs_train[1]\n",
    "    X_test = Xs_test[0]\n",
    "    \n",
    "    ols = LinearRegression()\n",
    "    #ols = ExtraTreesRegressor(n_estimators=20)\n",
    "    model = ols.fit(X,y)\n",
    "    pred = model.predict(X_test)\n",
    "        \n",
    "    print('M='+str(m))\n",
    "    print('\\n')\n",
    "    name = 'r('+str(m)+')'\n",
    "    df = pd.DataFrame({'LID':lids,name:pred})\n",
    "    df.set_index('LID',inplace=True)\n",
    "    return df"
   ]
  },
  {
   "cell_type": "code",
   "execution_count": 93,
   "metadata": {},
   "outputs": [
    {
     "name": "stdout",
     "output_type": "stream",
     "text": [
      "M=12\n",
      "\n",
      "\n",
      "M=24\n",
      "\n",
      "\n",
      "M=36\n",
      "\n",
      "\n",
      "M=48\n",
      "\n",
      "\n",
      "M=60\n",
      "\n",
      "\n"
     ]
    }
   ],
   "source": [
    "df12_class = classification_on_2(XYs_12_class,X_12_class_2,12)\n",
    "df24_class = classification_on_2(XYs_24_class,X_24_class_2,24)\n",
    "df36_class = classification_on_2(XYs_36_class,X_36_class_2,36)\n",
    "df48_class = classification_on_2(XYs_48_class,X_48_class_2,48)\n",
    "df60_class = classification_on_2(XYs_60_class,X_60_class_2,60)"
   ]
  },
  {
   "cell_type": "code",
   "execution_count": 94,
   "metadata": {},
   "outputs": [
    {
     "name": "stdout",
     "output_type": "stream",
     "text": [
      "M=12\n",
      "\n",
      "\n",
      "M=24\n",
      "\n",
      "\n",
      "M=36\n",
      "\n",
      "\n",
      "M=48\n",
      "\n",
      "\n",
      "M=60\n",
      "\n",
      "\n"
     ]
    }
   ],
   "source": [
    "df12_reg = regression_on_2(XYs_12,X_12_class_2,12)\n",
    "df24_reg = regression_on_2(XYs_24,X_24_class_2,24)\n",
    "df36_reg = regression_on_2(XYs_36,X_36_class_2,36)\n",
    "df48_reg = regression_on_2(XYs_48,X_48_class_2,48)\n",
    "df60_reg = regression_on_2(XYs_60,X_60_class_2,60)"
   ]
  },
  {
   "cell_type": "code",
   "execution_count": 95,
   "metadata": {},
   "outputs": [],
   "source": [
    "finaldf = pd.concat([df12_class,df24_class,df36_class,df48_class,df60_class,df12_reg,df24_reg,df36_reg,df48_reg,df60_reg],axis='columns')\n",
    "finaldf.to_csv('predictions.csv')"
   ]
  }
 ],
 "metadata": {
  "kernelspec": {
   "display_name": "Python 3",
   "language": "python",
   "name": "python3"
  },
  "language_info": {
   "codemirror_mode": {
    "name": "ipython",
    "version": 3
   },
   "file_extension": ".py",
   "mimetype": "text/x-python",
   "name": "python",
   "nbconvert_exporter": "python",
   "pygments_lexer": "ipython3",
   "version": "3.7.4"
  }
 },
 "nbformat": 4,
 "nbformat_minor": 4
}
